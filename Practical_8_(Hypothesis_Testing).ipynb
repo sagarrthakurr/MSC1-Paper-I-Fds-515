{
  "cells": [
    {
      "cell_type": "markdown",
      "metadata": {
        "id": "view-in-github",
        "colab_type": "text"
      },
      "source": [
        "<a href=\"https://colab.research.google.com/github/sagarrthakurr/MSC1-Paper-II-Fundamental-of-data-science-515/blob/main/Practical_8_(Hypothesis_Testing).ipynb\" target=\"_parent\"><img src=\"https://colab.research.google.com/assets/colab-badge.svg\" alt=\"Open In Colab\"/></a>"
      ]
    },
    {
      "cell_type": "code",
      "execution_count": null,
      "id": "bde9b0c3",
      "metadata": {
        "id": "bde9b0c3"
      },
      "outputs": [],
      "source": [
        "import pandas as pd\n",
        "import numpy as np\n",
        "import matplotlib.pyplot as plt\n",
        "import seaborn as sns\n",
        "import scipy.stats as stats\n",
        "from scipy.stats import ttest_1samp\n",
        "from statsmodels.stats.power import tt_ind_solve_power"
      ]
    },
    {
      "cell_type": "code",
      "execution_count": null,
      "id": "4948aa3c",
      "metadata": {
        "id": "4948aa3c",
        "outputId": "8ca5e5c4-1d61-40bf-fad1-8527bf0163a2"
      },
      "outputs": [
        {
          "name": "stdout",
          "output_type": "stream",
          "text": [
            "30.34375\n"
          ]
        }
      ],
      "source": [
        "ages=[10,20,35,50,28,40,55,18,16,55,30,25,43,18,30,28,14,24,16,17,32,35,26,27,65,18,43,23,21,20,19,70]\n",
        "ages_mean=np.mean(ages)\n",
        "print(ages_mean)"
      ]
    },
    {
      "cell_type": "code",
      "execution_count": null,
      "id": "df51ba3b",
      "metadata": {
        "id": "df51ba3b",
        "outputId": "bb757008-32ec-4cd2-f55e-6fe5e7d127ff"
      },
      "outputs": [
        {
          "data": {
            "text/plain": [
              "array([35, 43, 55, 50, 27, 10, 25, 23, 26, 10])"
            ]
          },
          "execution_count": 3,
          "metadata": {},
          "output_type": "execute_result"
        }
      ],
      "source": [
        "#Lets take sample\n",
        "sample_size=10\n",
        "age_sample=np.random.choice(ages,sample_size)\n",
        "age_sample"
      ]
    },
    {
      "cell_type": "code",
      "execution_count": null,
      "id": "0671410c",
      "metadata": {
        "id": "0671410c"
      },
      "outputs": [],
      "source": [
        "from scipy.stats import ttest_1samp\n",
        "ttest,p_value=ttest_1samp(age_sample,30)"
      ]
    },
    {
      "cell_type": "code",
      "execution_count": null,
      "id": "72407cb9",
      "metadata": {
        "id": "72407cb9",
        "outputId": "8c1b16b5-fdf4-4c69-ac43-5204eb739bf0"
      },
      "outputs": [
        {
          "name": "stdout",
          "output_type": "stream",
          "text": [
            "0.9360653412936379\n"
          ]
        }
      ],
      "source": [
        "print(p_value)"
      ]
    },
    {
      "cell_type": "code",
      "execution_count": null,
      "id": "c6b6e560",
      "metadata": {
        "id": "c6b6e560",
        "outputId": "5bd8ea41-99f8-455c-ffd1-0c5e1dbf1487"
      },
      "outputs": [
        {
          "name": "stdout",
          "output_type": "stream",
          "text": [
            "We are accepting null hypothesis\n"
          ]
        }
      ],
      "source": [
        "if p_value < 0.05:\n",
        "    print(\"We are rejecting null hypothesis\")\n",
        "else:\n",
        "    print(\"We are accepting null hypothesis\")"
      ]
    },
    {
      "cell_type": "code",
      "execution_count": null,
      "id": "fa65d18f",
      "metadata": {
        "id": "fa65d18f"
      },
      "outputs": [],
      "source": []
    }
  ],
  "metadata": {
    "kernelspec": {
      "display_name": "Python 3 (ipykernel)",
      "language": "python",
      "name": "python3"
    },
    "language_info": {
      "codemirror_mode": {
        "name": "ipython",
        "version": 3
      },
      "file_extension": ".py",
      "mimetype": "text/x-python",
      "name": "python",
      "nbconvert_exporter": "python",
      "pygments_lexer": "ipython3",
      "version": "3.9.7"
    },
    "colab": {
      "provenance": [],
      "include_colab_link": true
    }
  },
  "nbformat": 4,
  "nbformat_minor": 5
}