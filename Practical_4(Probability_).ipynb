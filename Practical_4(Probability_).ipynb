{
  "cells": [
    {
      "cell_type": "markdown",
      "metadata": {
        "id": "view-in-github",
        "colab_type": "text"
      },
      "source": [
        "<a href=\"https://colab.research.google.com/github/sagarrthakurr/MSC1-Paper-II-Fundamental-of-data-science-515/blob/main/Practical_4(Probability_).ipynb\" target=\"_parent\"><img src=\"https://colab.research.google.com/assets/colab-badge.svg\" alt=\"Open In Colab\"/></a>"
      ]
    },
    {
      "cell_type": "code",
      "execution_count": null,
      "id": "6485bebf",
      "metadata": {
        "id": "6485bebf",
        "outputId": "3dd014b5-6b2c-4ca3-ae5f-eb9ab0da73d9"
      },
      "outputs": [
        {
          "name": "stdout",
          "output_type": "stream",
          "text": [
            "probability of getting 3 is: 0.16666666666666666\n"
          ]
        }
      ],
      "source": [
        "# probability of getting 3 when a die is rolled\n",
        "ns = 6 #n(S) = {1,2,3,4,5,6}\n",
        "na = 1 #n(A) = {3}\n",
        "pa = na/ns # P(A)\n",
        "print(\"probability of getting 3 is:\",pa)"
      ]
    },
    {
      "cell_type": "code",
      "execution_count": null,
      "id": "ee777bea",
      "metadata": {
        "id": "ee777bea",
        "outputId": "219a827b-0548-4750-9c47-efbe0207eec1"
      },
      "outputs": [
        {
          "name": "stdout",
          "output_type": "stream",
          "text": [
            "probability of getting atleast one head is: 0.875\n"
          ]
        }
      ],
      "source": [
        "# probability of atleast getting one head when a coin is tossed thrice\n",
        "ns = 8 #n(S) = {HHH, HHT, HTH, THH, TTH, THT, HTT, TTT}\n",
        "na = 7 #n(A) = {HHH, HHT, HTH, THH, TTH, THT, HTT}\n",
        "pa = na/ns # P(A)\n",
        "print(\"probability of getting atleast one head is:\",pa)"
      ]
    },
    {
      "cell_type": "code",
      "execution_count": null,
      "id": "aaddd363",
      "metadata": {
        "id": "aaddd363",
        "outputId": "4ad0e587-7d87-42cb-f7ea-b42380de3dfa"
      },
      "outputs": [
        {
          "name": "stdout",
          "output_type": "stream",
          "text": [
            "probability of getting not blue jellybean is: 0.7\n"
          ]
        }
      ],
      "source": [
        "# A glass jar contains 5 red, 3 blue and 2 green jelly beans. If a jelly bean is chosen at random from the jar, \n",
        "#  mwhat is the probability that it is not blue?\n",
        "ns = 10 #n(S) = {5red,3blue,2green}\n",
        "na = 7 #n(A) = {5red, 2green}\n",
        "pa = na/ns # P(A)\n",
        "print(\"probability of getting not blue jellybean is:\",pa)"
      ]
    },
    {
      "cell_type": "code",
      "execution_count": null,
      "id": "9a37129a",
      "metadata": {
        "id": "9a37129a",
        "outputId": "e6df79cc-d3f5-4261-f9ec-6be9cddc52d7"
      },
      "outputs": [
        {
          "name": "stdout",
          "output_type": "stream",
          "text": [
            "probability that they will be alive after 20 years is: 0.35\n"
          ]
        }
      ],
      "source": [
        "#Independent and Dependent Events\n",
        "# If the probability that person A will be alive in 20 years\n",
        "#is 0.7 and the probability that person B will be alive in\n",
        "# 20 years is 0.5, what is the probability that they will \n",
        "#both be alive in 20 years?\n",
        "\n",
        "#These are independent events, so\n",
        "P = 0.7*0.5\n",
        "print(\"probability that they will be alive after 20 years is:\",P)"
      ]
    },
    {
      "cell_type": "code",
      "execution_count": null,
      "id": "71d59b6e",
      "metadata": {
        "id": "71d59b6e"
      },
      "outputs": [],
      "source": [
        "def event_probability(n,s):\n",
        "  return n/s"
      ]
    },
    {
      "cell_type": "code",
      "execution_count": null,
      "id": "fae25328",
      "metadata": {
        "id": "fae25328",
        "outputId": "f80a8588-e4c6-4caf-8428-f377cc541b14"
      },
      "outputs": [
        {
          "name": "stdout",
          "output_type": "stream",
          "text": [
            "probability of getting a 4 or 5 on the first toss and a 1,2, or 3 in the second toss is: 0.16666666666666666\n"
          ]
        }
      ],
      "source": [
        "#A fair die is tossed twice. Find the probability of getting a 4 or 5 on the first toss and a 1,2, or 3 in the second toss.\n",
        "pa = event_probability(2,6) # probability of getting a 4 or 5 on the first toss\n",
        "pb = event_probability(3,6) # probability of getting 1,2,3 in second toss\n",
        "P = pa*pb \n",
        "print(\"probability of getting a 4 or 5 on the first toss and a 1,2, or 3 in the second toss is:\",P)"
      ]
    },
    {
      "cell_type": "code",
      "execution_count": null,
      "id": "d186770d",
      "metadata": {
        "id": "d186770d",
        "outputId": "7a429614-b0d6-46d7-b59c-365472d1c471"
      },
      "outputs": [
        {
          "name": "stdout",
          "output_type": "stream",
          "text": [
            "the probability of obtaining white, black and green in that order is  0.041666666666666664\n"
          ]
        }
      ],
      "source": [
        "# A bag contains 5 white marbles, 3 black marbles and 2 green marbles. In each draw, a marble is drawn from the bag\n",
        "# and not replaced. In three draws, find the probability of obtaining white, black and green in that order.\n",
        "pw = event_probability(5,10)\n",
        "pb = event_probability(3,9)\n",
        "pg = event_probability(2,8)\n",
        "print(\"the probability of obtaining white, black and green in that order is \",(pw*pb*pg))"
      ]
    },
    {
      "cell_type": "code",
      "execution_count": null,
      "id": "5d86e664",
      "metadata": {
        "id": "5d86e664",
        "outputId": "c875c437-7a17-478b-9d76-c135d76b4d23"
      },
      "outputs": [
        {
          "name": "stdout",
          "output_type": "stream",
          "text": [
            "0.5\n"
          ]
        }
      ],
      "source": [
        "# Sample Space\n",
        "cards = 52\n",
        "\n",
        "# Calculate the probability of drawing a heart or a club\n",
        "hearts = 13\n",
        "clubs = 13\n",
        "heart_or_club = event_probability(hearts, cards) + event_probability(clubs, cards)\n",
        "print(heart_or_club )"
      ]
    },
    {
      "cell_type": "code",
      "execution_count": null,
      "id": "d7f8a12d",
      "metadata": {
        "id": "d7f8a12d",
        "outputId": "1cf7bcf4-5a11-4180-dd94-0edaa1ac4f4e"
      },
      "outputs": [
        {
          "name": "stdout",
          "output_type": "stream",
          "text": [
            "0.5\n",
            "0.23076923076923078\n"
          ]
        }
      ],
      "source": [
        "# Calculate the probability of drawing an ace, king, or a queen\n",
        "aces = 4\n",
        "kings = 4\n",
        "queens = 4\n",
        "ace_king_or_queen = event_probability(aces, cards) + event_probability(kings, cards) + event_probability(queens, cards)\n",
        "\n",
        "print(heart_or_club)\n",
        "print(ace_king_or_queen)"
      ]
    },
    {
      "cell_type": "code",
      "execution_count": null,
      "id": "b480648e",
      "metadata": {
        "id": "b480648e",
        "outputId": "e54a6c38-4ac7-4a0a-e0ec-cae016a8201f"
      },
      "outputs": [
        {
          "name": "stdout",
          "output_type": "stream",
          "text": [
            "0.3\n"
          ]
        }
      ],
      "source": [
        "# Calculate the probability of drawing a heart or an ace\n",
        "hearts = 13\n",
        "aces = 4\n",
        "ace_of_hearts = 1\n",
        "heart_or_ace = event_probability(hearts, cards) + event_probability(aces, cards) - event_probability(ace_of_hearts, cards)\n",
        "print(round(heart_or_ace, 1))"
      ]
    },
    {
      "cell_type": "code",
      "execution_count": null,
      "id": "0154eed1",
      "metadata": {
        "id": "0154eed1",
        "outputId": "76aa0b6b-93a0-411d-94a7-c0a0ea3c919f"
      },
      "outputs": [
        {
          "name": "stdout",
          "output_type": "stream",
          "text": [
            "0.3\n",
            "0.6\n"
          ]
        }
      ],
      "source": [
        "red_cards = 26\n",
        "face_cards = 12\n",
        "red_face_cards = 6\n",
        "red_or_face_cards = event_probability(red_cards, cards) + event_probability(face_cards, cards) - event_probability(red_face_cards, cards)\n",
        "\n",
        "print(round(heart_or_ace, 1))\n",
        "print(round(red_or_face_cards, 1))"
      ]
    },
    {
      "cell_type": "code",
      "execution_count": null,
      "id": "8966be99",
      "metadata": {
        "id": "8966be99",
        "outputId": "ac4c425e-455a-4d6e-d4d2-6d26956d8a19"
      },
      "outputs": [
        {
          "name": "stdout",
          "output_type": "stream",
          "text": [
            "probabilty of not getting 5 is: 0.8333333333333334\n"
          ]
        }
      ],
      "source": [
        "#Complementary Events\n",
        "#probabiltiy of not getting 5 when a fair die is rolled\n",
        "ns = 6 #n(S) = {1,2,3,4,5,6}\n",
        "na = 1 #n(A) = {5}\n",
        "pa = na/ns # P(A)\n",
        "print(\"probabilty of not getting 5 is:\",1-pa)"
      ]
    },
    {
      "cell_type": "code",
      "execution_count": null,
      "id": "fb38d8b9",
      "metadata": {
        "id": "fb38d8b9",
        "outputId": "8e5be371-01c2-4346-b75b-1009649fc12e"
      },
      "outputs": [
        {
          "data": {
            "text/html": [
              "<div>\n",
              "<style scoped>\n",
              "    .dataframe tbody tr th:only-of-type {\n",
              "        vertical-align: middle;\n",
              "    }\n",
              "\n",
              "    .dataframe tbody tr th {\n",
              "        vertical-align: top;\n",
              "    }\n",
              "\n",
              "    .dataframe thead th {\n",
              "        text-align: right;\n",
              "    }\n",
              "</style>\n",
              "<table border=\"1\" class=\"dataframe\">\n",
              "  <thead>\n",
              "    <tr style=\"text-align: right;\">\n",
              "      <th></th>\n",
              "      <th>school</th>\n",
              "      <th>sex</th>\n",
              "      <th>age</th>\n",
              "      <th>address</th>\n",
              "      <th>famsize</th>\n",
              "      <th>Pstatus</th>\n",
              "      <th>Medu</th>\n",
              "      <th>Fedu</th>\n",
              "      <th>Mjob</th>\n",
              "      <th>Fjob</th>\n",
              "      <th>...</th>\n",
              "      <th>famrel</th>\n",
              "      <th>freetime</th>\n",
              "      <th>goout</th>\n",
              "      <th>Dalc</th>\n",
              "      <th>Walc</th>\n",
              "      <th>health</th>\n",
              "      <th>absences</th>\n",
              "      <th>G1</th>\n",
              "      <th>G2</th>\n",
              "      <th>G3</th>\n",
              "    </tr>\n",
              "  </thead>\n",
              "  <tbody>\n",
              "    <tr>\n",
              "      <th>0</th>\n",
              "      <td>GP</td>\n",
              "      <td>F</td>\n",
              "      <td>18</td>\n",
              "      <td>U</td>\n",
              "      <td>GT3</td>\n",
              "      <td>A</td>\n",
              "      <td>4</td>\n",
              "      <td>4</td>\n",
              "      <td>at_home</td>\n",
              "      <td>teacher</td>\n",
              "      <td>...</td>\n",
              "      <td>4</td>\n",
              "      <td>3</td>\n",
              "      <td>4</td>\n",
              "      <td>1</td>\n",
              "      <td>1</td>\n",
              "      <td>3</td>\n",
              "      <td>6</td>\n",
              "      <td>5</td>\n",
              "      <td>6</td>\n",
              "      <td>6</td>\n",
              "    </tr>\n",
              "    <tr>\n",
              "      <th>1</th>\n",
              "      <td>GP</td>\n",
              "      <td>F</td>\n",
              "      <td>17</td>\n",
              "      <td>U</td>\n",
              "      <td>GT3</td>\n",
              "      <td>T</td>\n",
              "      <td>1</td>\n",
              "      <td>1</td>\n",
              "      <td>at_home</td>\n",
              "      <td>other</td>\n",
              "      <td>...</td>\n",
              "      <td>5</td>\n",
              "      <td>3</td>\n",
              "      <td>3</td>\n",
              "      <td>1</td>\n",
              "      <td>1</td>\n",
              "      <td>3</td>\n",
              "      <td>4</td>\n",
              "      <td>5</td>\n",
              "      <td>5</td>\n",
              "      <td>6</td>\n",
              "    </tr>\n",
              "    <tr>\n",
              "      <th>2</th>\n",
              "      <td>GP</td>\n",
              "      <td>F</td>\n",
              "      <td>15</td>\n",
              "      <td>U</td>\n",
              "      <td>LE3</td>\n",
              "      <td>T</td>\n",
              "      <td>1</td>\n",
              "      <td>1</td>\n",
              "      <td>at_home</td>\n",
              "      <td>other</td>\n",
              "      <td>...</td>\n",
              "      <td>4</td>\n",
              "      <td>3</td>\n",
              "      <td>2</td>\n",
              "      <td>2</td>\n",
              "      <td>3</td>\n",
              "      <td>3</td>\n",
              "      <td>10</td>\n",
              "      <td>7</td>\n",
              "      <td>8</td>\n",
              "      <td>10</td>\n",
              "    </tr>\n",
              "  </tbody>\n",
              "</table>\n",
              "<p>3 rows × 33 columns</p>\n",
              "</div>"
            ],
            "text/plain": [
              "  school sex  age address famsize Pstatus  Medu  Fedu     Mjob     Fjob  ...  \\\n",
              "0     GP   F   18       U     GT3       A     4     4  at_home  teacher  ...   \n",
              "1     GP   F   17       U     GT3       T     1     1  at_home    other  ...   \n",
              "2     GP   F   15       U     LE3       T     1     1  at_home    other  ...   \n",
              "\n",
              "  famrel freetime  goout  Dalc  Walc health absences G1 G2  G3  \n",
              "0      4        3      4     1     1      3        6  5  6   6  \n",
              "1      5        3      3     1     1      3        4  5  5   6  \n",
              "2      4        3      2     2     3      3       10  7  8  10  \n",
              "\n",
              "[3 rows x 33 columns]"
            ]
          },
          "execution_count": 16,
          "metadata": {},
          "output_type": "execute_result"
        }
      ],
      "source": [
        "import pandas as pd\n",
        "import numpy as np\n",
        "df = pd.read_csv('student-mat.csv')\n",
        "df.head(3)"
      ]
    },
    {
      "cell_type": "code",
      "execution_count": null,
      "id": "f65e8425",
      "metadata": {
        "id": "f65e8425",
        "outputId": "b606d46b-c430-4ade-eb11-d43149858849"
      },
      "outputs": [
        {
          "data": {
            "text/plain": [
              "395"
            ]
          },
          "execution_count": 17,
          "metadata": {},
          "output_type": "execute_result"
        }
      ],
      "source": [
        "len(df)"
      ]
    },
    {
      "cell_type": "code",
      "execution_count": null,
      "id": "ef2a2af0",
      "metadata": {
        "id": "ef2a2af0"
      },
      "outputs": [],
      "source": [
        "df['grade_A'] = np.where(df['G3']*5 >= 80, 1, 0)"
      ]
    },
    {
      "cell_type": "code",
      "execution_count": null,
      "id": "52b09063",
      "metadata": {
        "id": "52b09063"
      },
      "outputs": [],
      "source": [
        "df['high_absenses'] = np.where(df['absences'] >= 10, 1, 0)"
      ]
    },
    {
      "cell_type": "code",
      "execution_count": null,
      "id": "a2cafcaf",
      "metadata": {
        "id": "a2cafcaf"
      },
      "outputs": [],
      "source": [
        "df['count'] = 1"
      ]
    },
    {
      "cell_type": "code",
      "execution_count": null,
      "id": "47c59940",
      "metadata": {
        "id": "47c59940",
        "outputId": "2f506391-dbc6-43ec-dc7f-699120cb25b8"
      },
      "outputs": [
        {
          "data": {
            "text/html": [
              "<div>\n",
              "<style scoped>\n",
              "    .dataframe tbody tr th:only-of-type {\n",
              "        vertical-align: middle;\n",
              "    }\n",
              "\n",
              "    .dataframe tbody tr th {\n",
              "        vertical-align: top;\n",
              "    }\n",
              "\n",
              "    .dataframe thead th {\n",
              "        text-align: right;\n",
              "    }\n",
              "</style>\n",
              "<table border=\"1\" class=\"dataframe\">\n",
              "  <thead>\n",
              "    <tr style=\"text-align: right;\">\n",
              "      <th></th>\n",
              "      <th>grade_A</th>\n",
              "      <th>high_absenses</th>\n",
              "      <th>count</th>\n",
              "    </tr>\n",
              "  </thead>\n",
              "  <tbody>\n",
              "    <tr>\n",
              "      <th>0</th>\n",
              "      <td>0</td>\n",
              "      <td>0</td>\n",
              "      <td>1</td>\n",
              "    </tr>\n",
              "    <tr>\n",
              "      <th>1</th>\n",
              "      <td>0</td>\n",
              "      <td>0</td>\n",
              "      <td>1</td>\n",
              "    </tr>\n",
              "    <tr>\n",
              "      <th>2</th>\n",
              "      <td>0</td>\n",
              "      <td>1</td>\n",
              "      <td>1</td>\n",
              "    </tr>\n",
              "    <tr>\n",
              "      <th>3</th>\n",
              "      <td>0</td>\n",
              "      <td>0</td>\n",
              "      <td>1</td>\n",
              "    </tr>\n",
              "    <tr>\n",
              "      <th>4</th>\n",
              "      <td>0</td>\n",
              "      <td>0</td>\n",
              "      <td>1</td>\n",
              "    </tr>\n",
              "  </tbody>\n",
              "</table>\n",
              "</div>"
            ],
            "text/plain": [
              "   grade_A  high_absenses  count\n",
              "0        0              0      1\n",
              "1        0              0      1\n",
              "2        0              1      1\n",
              "3        0              0      1\n",
              "4        0              0      1"
            ]
          },
          "execution_count": 21,
          "metadata": {},
          "output_type": "execute_result"
        }
      ],
      "source": [
        "df = df[['grade_A','high_absenses','count']]\n",
        "df.head()\n"
      ]
    },
    {
      "cell_type": "code",
      "execution_count": null,
      "id": "b116ff6b",
      "metadata": {
        "id": "b116ff6b"
      },
      "outputs": [],
      "source": [
        "final= pd.pivot_table(\n",
        "    df, \n",
        "    values='count', \n",
        "    index=['grade_A'], \n",
        "    columns=['high_absenses'], \n",
        "    aggfunc=np.size, \n",
        "    fill_value=0\n",
        ")"
      ]
    },
    {
      "cell_type": "code",
      "execution_count": null,
      "id": "fcc3b915",
      "metadata": {
        "id": "fcc3b915",
        "outputId": "9d4993ea-db79-4e1a-9580-77a08a689ee0"
      },
      "outputs": [
        {
          "name": "stdout",
          "output_type": "stream",
          "text": [
            "high_absenses    0   1\n",
            "grade_A               \n",
            "0              277  78\n",
            "1               35   5\n"
          ]
        }
      ],
      "source": [
        "print(final)"
      ]
    },
    {
      "cell_type": "code",
      "execution_count": null,
      "id": "20234f58",
      "metadata": {
        "id": "20234f58"
      },
      "outputs": [],
      "source": []
    }
  ],
  "metadata": {
    "kernelspec": {
      "display_name": "Python 3 (ipykernel)",
      "language": "python",
      "name": "python3"
    },
    "language_info": {
      "codemirror_mode": {
        "name": "ipython",
        "version": 3
      },
      "file_extension": ".py",
      "mimetype": "text/x-python",
      "name": "python",
      "nbconvert_exporter": "python",
      "pygments_lexer": "ipython3",
      "version": "3.9.7"
    },
    "colab": {
      "provenance": [],
      "include_colab_link": true
    }
  },
  "nbformat": 4,
  "nbformat_minor": 5
}